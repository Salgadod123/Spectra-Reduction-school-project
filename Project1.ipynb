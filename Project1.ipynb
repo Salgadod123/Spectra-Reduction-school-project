{
 "cells": [
  {
   "cell_type": "code",
   "execution_count": 121,
   "id": "d367fbb2-1779-45ef-90f7-fefa9f967901",
   "metadata": {},
   "outputs": [],
   "source": [
    "import os\n",
    "import os.path\n",
    "from os import path\n",
    "import numpy as np\n",
    "import ccdproc\n",
    "from astropy.io import fits,ascii\n",
    "from astropy.nddata import CCDData\n",
    "import sys\n",
    "sys.path.append(r\"C:\\Users\\david\\raw\")\n",
    "from srp2 import *\n",
    "from wcalib import *\n",
    "from astropy import units as u\n",
    "import statistics\n",
    "from scipy.ndimage import uniform_filter\n",
    "import matplotlib.pyplot as plt; plt.rcdefaults()\n",
    "import re\n",
    "from astropy.time import Time\n",
    "from astropy.time import TimeDelta\n",
    "import warnings\n",
    "from astropy.utils.exceptions import AstropyWarning\n",
    "warnings.simplefilter('ignore', category=AstropyWarning)\n",
    "from astropy.coordinates import SkyCoord, EarthLocation\n",
    "from scipy.interpolate import interp1d\n"
   ]
  },
  {
   "cell_type": "code",
   "execution_count": 3,
   "id": "20723f5d-fa8b-40ab-83e2-5262c29adb97",
   "metadata": {},
   "outputs": [],
   "source": [
    "csv_filename=r\"C:\\Users\\david\\raw\\Log.csv\" \n",
    "input_list =np.loadtxt(csv_filename, dtype={'names':('filename', 'type'), 'formats':('U20','U20')}, delimiter=',',usecols=(0,1),skiprows=(0))\n",
    "np.savetxt(r'C:\\Users\\david\\raw\\input_list',input_list,fmt='%s,%s', delimiter=',', header='filename,type', comments='')"
   ]
  },
  {
   "cell_type": "code",
   "execution_count": 4,
   "id": "1d706eb3-03bc-48f0-88b9-bdea166313ff",
   "metadata": {},
   "outputs": [],
   "source": [
    "imtypes = np.array(input_list['type'])\n",
    "biasims, = np.where(imtypes == 'biases')\n",
    "bias_stack = []\n",
    "for bb in biasims:\n",
    "    filename = input_list['filename'][bb].strip()\n",
    "    if '-' in filename:\n",
    "        base_filename = filename.split('-')[0] + '-'\n",
    "        start, end = filename.split('-')\n",
    "        for i in range(int(start), int(end) + 1):\n",
    "            number_str = str(i).zfill(4)\n",
    "            file_path = os.path.join(r'C:\\Users\\david\\raw\\Data', 'GM113022-'+number_str + '.fit')\n",
    "            bias_stack.append(file_path)\n",
    "    else:\n",
    "        file_path = os.path.join(r'C:\\Users\\david\\raw\\Data', filename + '.fit')\n",
    "        if os.path.exists(file_path):\n",
    "            bias_stack.append(file_path)\n",
    "output_file = r'C:\\Users\\david\\raw\\MasterBias.fits'\n",
    "if os.path.exists(output_file):\n",
    "    os.remove(output_file)\n",
    "masterbias = ccdproc.combine(bias_stack, output_file=r'C:\\Users\\david\\raw\\MasterBias.fits',method='average',sigma_clip=True,sig_clip_low_thresh=3,sig_clip_high_thresh=3,unit=\"adu\", overwrite=True)\n"
   ]
  },
  {
   "cell_type": "code",
   "execution_count": 5,
   "id": "8f39d84f-e451-427e-9100-5a70f7237053",
   "metadata": {},
   "outputs": [],
   "source": [
    "flatdarkims, = np.where(imtypes == 'darks')\n",
    "darkims, = np.where(imtypes == 'darksthirty')\n",
    "flatdark_stack = []\n",
    "for fd in flatdarkims:\n",
    "    filename = input_list['filename'][fd].strip()\n",
    "    if '-' in filename:\n",
    "        base_filename = filename.split('-')[0] + '-'\n",
    "        start, end = filename.split('-')\n",
    "        for i in range(int(start), int(end) + 1):\n",
    "            number_str = str(i).zfill(4)\n",
    "            file_path = os.path.join(r'C:\\Users\\david\\raw\\Data', 'GM113022-'+number_str + '.fit')\n",
    "            flatdark_stack.append(file_path)\n",
    "    else:\n",
    "        file_path = os.path.join(r'C:\\Users\\david\\raw\\Data', filename + '.fit')\n",
    "        if os.path.exists(file_path):\n",
    "            flatdark_stack.append(file_path)\n",
    "output_file = r'C:\\Users\\david\\raw\\MasterFlatDark.fits'\n",
    "if os.path.exists(output_file):\n",
    "    os.remove(output_file)\n",
    "masterflatdark = ccdproc.combine(flatdark_stack,output_file=r'C:\\Users\\david\\raw\\MasterFlatDark.fits',method='average',sigma_clip=True,sig_clip_low_thresh=1.5,sig_clip_high_thresh=1.5,unit=\"adu\",overwrite=True)\n",
    "dark_stack = []\n",
    "for dd in darkims:\n",
    "    filename = input_list['filename'][dd].strip()\n",
    "    if '-' in filename:\n",
    "        base_filename = filename.split('-')[0] + '-'\n",
    "        start, end = filename.split('-')\n",
    "        for i in range(int(start), int(end) + 1):\n",
    "            number_str = str(i).zfill(4)\n",
    "            file_path = os.path.join(r'C:\\Users\\david\\raw\\Data', 'GM113022-'+number_str + '.fit')\n",
    "            dark_stack.append(file_path)\n",
    "\n",
    "    else:\n",
    "        file_path = os.path.join(r'C:\\Users\\david\\raw\\Data', filename + '.fit')\n",
    "        if os.path.exists(file_path):\n",
    "            dark_stack.append(file_path)\n",
    "\n",
    "\n",
    "output_file = r'C:\\Users\\david\\raw\\MasterDark.fits'\n",
    "if os.path.exists(output_file):\n",
    "    os.remove(output_file)\n",
    "masterdark = ccdproc.combine(dark_stack,output_file=r'C:\\Users\\david\\raw\\MasterDark.fits',method='median',sigma_clip=True,sig_clip_low_thresh=3.0,sig_clip_high_thresh=3.0,unit=\"adu\",overwrite=True)\n",
    "\t\n",
    "\n"
   ]
  },
  {
   "cell_type": "code",
   "execution_count": 6,
   "id": "25d66e3c-a9ea-4bed-a388-c8ad8bcdb42d",
   "metadata": {},
   "outputs": [],
   "source": [
    "flatims, = np.where(imtypes == 'flats')\n",
    "flat_stack = []\n",
    "for ff in flatims:\n",
    "    filename = input_list['filename'][ff].strip()\n",
    "    if '-' in filename:\n",
    "        base_filename = filename.split('-')[0] + '-'\n",
    "        start, end = filename.split('-')\n",
    "        for i in range(int(start), int(end) + 1):\n",
    "            number_str = str(i).zfill(4)\n",
    "            file_path = os.path.join(r'C:\\Users\\david\\raw\\Data', 'GM113022-'+number_str + '.fit')\n",
    "            flat_stack.append(file_path)\n",
    "    else:\n",
    "        file_path = os.path.join(r'C:\\Users\\david\\raw\\Data', filename + '.fit')\n",
    "        if os.path.exists(file_path):\n",
    "            flat_stack.append(file_path)\n",
    "output_file = r'C:\\Users\\david\\raw\\MasterFlat.fits'\n",
    "if os.path.exists(output_file):\n",
    "    os.remove(output_file)\n",
    "masterflat = ccdproc.combine(flat_stack,output_file=r'C:\\Users\\david\\raw\\MasterFlat.fits',method='average',sigma_clip=True,sig_clip_low_thresh=3,sig_clip_high_thresh=3,unit=\"adu\",overwrite=True)"
   ]
  },
  {
   "cell_type": "code",
   "execution_count": 7,
   "id": "542567ca-b91a-40c2-8172-1007c6085d2b",
   "metadata": {},
   "outputs": [],
   "source": [
    " masterflat=CCDData.read(r'C:\\Users\\david\\raw\\MasterFlat.fits')\n",
    "masterflatdark=CCDData.read(r'C:\\Users\\david\\raw\\MasterFlatDark.fits')  \n",
    "masterflatdarksub = ccdproc.subtract_dark(masterflat,masterflatdark,dark_exposure=10.0*u.second,data_exposure=10.0*u.second)\n",
    "ccdproc.fits_ccddata_writer(masterflatdarksub,r'C:\\Users\\david\\raw\\MasterFlat_DarkSub.fits',overwrite=True)"
   ]
  },
  {
   "cell_type": "code",
   "execution_count": 8,
   "id": "ffbc9358-a288-4526-ab53-645ed5d0d7fd",
   "metadata": {},
   "outputs": [],
   "source": [
    " masterflat=CCDData.read(r'C:\\Users\\david\\raw\\MasterFlat_DarkSub.fits')\n",
    "FLAT_trim = ccdproc.trim_image(masterflat[95:166,:])\n",
    "ccdproc.fits_ccddata_writer(FLAT_trim,'FLAT_trim.fits', overwrite=True)\n",
    "FS = boxcar(FLAT_trim,30,9,'reflect')\n",
    "ccdproc.fits_ccddata_writer(FS,'FS.fits',overwrite=True)\n",
    "FLAT = ccdproc.flat_correct(FLAT_trim,FS)\n",
    "ccdproc.fits_ccddata_writer(FLAT,r'C:\\Users\\david\\raw\\MasterFlat_Final.fits',overwrite=True)"
   ]
  },
  {
   "cell_type": "code",
   "execution_count": 9,
   "id": "991e602b-63d2-4d9c-afe3-af8f7f58017f",
   "metadata": {},
   "outputs": [],
   "source": [
    "if os.path.exists(r'C:\\Users\\david\\raw\\MasterDark_BiasSub.fits'):\n",
    "  os.remove(r'C:\\Users\\david\\raw\\MasterDark_BiasSub.fits')\n",
    "masterdark=CCDData.read(r'C:\\Users\\david\\raw\\MasterDark.fits')\n",
    "masterbias=CCDData.read(r'C:\\Users\\david\\raw\\MasterBias.fits')  \n",
    "masterdarkbiassub = ccdproc.subtract_bias(masterdark,masterbias)\n",
    "crop = ccdproc.trim_image(masterdarkbiassub[95:166,:])\n",
    "ccdproc.fits_ccddata_writer(crop,r'C:\\Users\\david\\raw\\MasterDark_BiasSub.fits')\n",
    "\n"
   ]
  },
  {
   "cell_type": "code",
   "execution_count": 10,
   "id": "ec5270fe-72e1-4ee6-8ab5-a1180c15d8c0",
   "metadata": {},
   "outputs": [],
   "source": [
    "masterbias=CCDData.read(r'C:\\Users\\david\\raw\\MasterBias.fits') \n",
    "filename = r'C:\\Users\\david\\raw\\Data\\GM113022-0015.fit'\n",
    "a2 = CCDData.read(filename,unit=\"adu\")\n",
    "a3 = ccdproc.subtract_bias(a2,masterbias)\n",
    "a4 = ccdproc.trim_image(a3[95:166,:])\n",
    "ccdproc.fits_ccddata_writer(a4,r'C:\\Users\\david\\raw\\Processed_WaveCal.fits',overwrite=True)"
   ]
  },
  {
   "cell_type": "code",
   "execution_count": 11,
   "id": "0820fbfc-449e-4f79-95f8-188e70e60700",
   "metadata": {},
   "outputs": [],
   "source": [
    "masterbias=CCDData.read(r'C:\\Users\\david\\raw\\MasterBias.fits') \n",
    "masterdark=CCDData.read(r'C:\\Users\\david\\raw\\MasterDark_BiasSub.fits')\n",
    "masterflat=CCDData.read(r'C:\\Users\\david\\raw\\MasterFlat_Final.fits')\n",
    "filename = r'C:\\Users\\david\\raw\\Data\\GM113022-0018.fit'\n",
    "s2 = CCDData.read(filename,unit=\"adu\")\n",
    "s3 = ccdproc.subtract_bias(s2,masterbias)\n",
    "s4 = ccdproc.trim_image(s3[95:166,:])\n",
    "s5 = ccdproc.subtract_dark(s4,masterdark,dark_exposure=300.0*u.second,data_exposure=300.0*u.second)\n",
    "s6 = ccdproc.flat_correct(s5,masterflat)\n",
    "ccdproc.fits_ccddata_writer(s6,'Reduced_Object.fits',overwrite=True)"
   ]
  },
  {
   "cell_type": "code",
   "execution_count": 41,
   "id": "6bbf581b-eb93-4c8e-b20d-cf08fca96835",
   "metadata": {},
   "outputs": [
    {
     "name": "stdout",
     "output_type": "stream",
     "text": [
      "INFO: using the unit adu passed to the FITS reader instead of the unit adu in the FITS file. [astropy.nddata.ccddata]\n"
     ]
    },
    {
     "data": {
      "image/png": "[encoded data removed]",
      "text/plain": [
       "<Figure size 640x480 with 1 Axes>"
      ]
     },
     "metadata": {},
     "output_type": "display_data"
    }
   ],
   "source": [
    "spectrum = (\"Reduced_Object.fits\")\n",
    "line = int((\"800\"))\n",
    "deg = 1 #This is the degree of the polynomial to be fit to the background\n",
    "low = 3.0 #This is low sigma level for rejecting points below the fitted curve\n",
    "high = 3.0 #This is the high sigma level for rejecting points above the fitted curve.  These last two variables are set so that the object spectrum and cosmic rays are not included in the background estimation\n",
    "\n",
    "s1 = CCDData.read(spectrum,unit=\"adu\")\n",
    "himage = fits.open(spectrum)\n",
    "naxis1 = int(himage[0].header['NAXIS1'])\n",
    "naxis2 = int(himage[0].header['NAXIS2'])\n",
    "\n",
    "#determine background\n",
    "x,y = scan_single_line(s1,naxis1,naxis2,line)\n",
    "p,points = fit_background_line(s1,naxis1,naxis2,line,deg,low,high)\n",
    "\n",
    "#plot results\n",
    "plt.plot(x,y)\n",
    "fitx = []\n",
    "fity = []\n",
    "for i in range(naxis2):\n",
    "    fitx.append(x[i])\n",
    "    fity.append(p(x[i]))\n",
    "    if(points[i] == 0):\n",
    "        plt.plot(x[i],y[i],'ro')\n",
    "\n",
    "plt.plot(fitx,fity)\n",
    "plt.savefig('try_background_fit.png')\n",
    "plt.show()\n"
   ]
  },
  {
   "cell_type": "code",
   "execution_count": 45,
   "id": "a7a767b8-1230-42e1-8c1d-63043b36c562",
   "metadata": {},
   "outputs": [
    {
     "name": "stdout",
     "output_type": "stream",
     "text": [
      "INFO: using the unit adu passed to the FITS reader instead of the unit adu in the FITS file. [astropy.nddata.ccddata]\n"
     ]
    }
   ],
   "source": [
    "#Removes old versions of output files\n",
    "if os.path.exists(\"background.fit\"):\n",
    "\tos.remove(\"background.fit\")\n",
    "  \n",
    "if os.path.exists(\"bkgnd_subtracted.fit\"):\n",
    "\tos.remove(\"bkgnd_subtracted.fit\")\n",
    "\n",
    "trace = Trace()\n",
    "\n",
    "spectrum = (\"Reduced_Object.fits\")\n",
    "deg = 1 #This is the degree of the polynomial to be fit to the background\n",
    "low = 3.0 #This is low sigma level for rejecting points below the fitted curve\n",
    "high = 3.0 #This is the high sigma level for rejecting points above the fitted curve.  These last two variables are set so that the object spectrum and cosmic rays are not included in the background estimation\n",
    "\n",
    "#deg = 1, low = 3.0 high = 2.5 works\n",
    "\n",
    "\n",
    "s1 = CCDData.read(spectrum,unit=\"adu\")\n",
    "himage = fits.open(spectrum)\n",
    "naxis1 = int(himage[0].header['NAXIS1'])\n",
    "naxis2 = int(himage[0].header['NAXIS2'])\n",
    "\n",
    "#Retrieve Trace\n",
    "get_trace(s1,naxis1,naxis2,10,trace)\n",
    "fit_trace(trace,1,naxis1)\n",
    "#Make Background image\n",
    "background = make_background_image(s1,naxis1,naxis2,deg,low,high)\n",
    "background.write('background.fit')\n",
    "#Subtract Background\n",
    "s1_back = s1.subtract(background)\n",
    "s1_back.write('bkgnd_subtracted.fit')"
   ]
  },
  {
   "cell_type": "code",
   "execution_count": 119,
   "id": "520126f3-f02c-4227-b6eb-3c2dbd607572",
   "metadata": {},
   "outputs": [
    {
     "name": "stdout",
     "output_type": "stream",
     "text": [
      "INFO: overwriting NDData's current unit with specified unit. [astropy.nddata.nddata]\n",
      "sd = 0.022520\n",
      "sd = 0.022520\n"
     ]
    }
   ],
   "source": [
    "gain = 3.97 # Set the gain of the CCD\n",
    "read_noise = 1.0 # Set the read noise level\n",
    "bg_deg = 1 # degree of polynomial to use for background estimate, determined in the previous step involving background subtraction\n",
    "bg_sig_low = 2.5 #This is low sigma level for rejecting points below the fitted curve\n",
    "bg_sig_high = 2.0 #This is the high sigma level for rejecting points above the fitted curve.  This and the previous variables are set so that the object spectrum and cosmic rays are not included in the background estimation\n",
    "trace_deg = 5 # degree of polynomial for the trace\n",
    "ws_deg = 5 # degree of polynomial for wavelength solution\n",
    "grating=600 #the grating used, mostly for bookkeeping\n",
    "\n",
    "DSO = EarthLocation(lat=36.2529*u.deg,lon=-81.4151*u.deg,height=932*u.m) # specify observing location, also mostly for bookkeeping\n",
    "\n",
    "spectrum = (\"Reduced_Object.fits\")\n",
    "name=(\"Hot_Star\")\n",
    "arc1=CCDData.read(\"Processed_WaveCal.fits\")\n",
    "N=1 #number of object images to be reduced and combined\n",
    "path_to_template=(\"template.dat\") \n",
    "path_to_template_data=(\"template_fit.dat\")\n",
    "\n",
    "\n",
    "#spectra=[\"Reduced_Object.fits\", \"Processed_WaveCal.fits\"]\n",
    "#spectra=[\"bkgnd_subtracted.fit\"]\n",
    "#name=\"29 Psc\"\n",
    "#arc1=CCDData.read(\"Processed_WaveCal.fits\")\n",
    "#N=1\n",
    "#wave_cor_600=\"template_fit.dat\"\n",
    "#path_to_template=\"template.dat\" \n",
    "#path_to_template_data=\"template_fit.dat\"\n",
    "\n",
    "#These last few lines just add additional bookkeeping output to our output files\n",
    "add_keywords = {'TELESCOP': 'DSO 32-in','INSTRUME': 'GM Spectrograph','EPOCH': 'J2000','GRATING':'%s g/mm' % grating} \n",
    "output_keywords = ['TELESCOP','INSTRUME','PROJECT','OBJECT','RA','DEC','AIRMASS','NUMEXP','EXPTIME','DATE-OBS','DATE-MID','JD','JD-MID','JD-HELIO','BARYCOR','GRATING']\n",
    "ext=\"txt\"\n",
    "\n",
    "#This is where the magic happens!  Perform background subtraction, extract the spectrum and output to a 1D spectrum, both a text file and fits file\n",
    "optimal_extract_and_combine(spectra,name,arc1,arc1,N,wave_cor_600,path_to_template,path_to_template_data,gain,read_noise,bg_deg,bg_sig_low,bg_sig_high,trace_deg,ws_deg,add_keywords,output_keywords,ext)"
   ]
  },
  {
   "cell_type": "code",
   "execution_count": 127,
   "id": "70f1486b-c1ac-4cdd-95cf-4795393def46",
   "metadata": {},
   "outputs": [
    {
     "data": {
      "image/png": "[encoded data removed]",
      "text/plain": [
       "<Figure size 1500x500 with 1 Axes>"
      ]
     },
     "metadata": {},
     "output_type": "display_data"
    }
   ],
   "source": [
    "name=(\"Hot_Star.txt\")\n",
    " \n",
    "lambda1, counts= np.loadtxt(name, max_rows=1024,unpack=True)\n",
    "\n",
    "plt.figure(figsize=(15,5))\n",
    "\n",
    "plt.plot(lambda1, counts, color='blue')\n",
    "\n",
    "maxy=max(counts)\n",
    "\n",
    "plt.axis([3800, 5800, 0, 1.1*maxy])\n",
    "plt.xlabel('wavelength (Angstroms)')\n",
    "plt.ylabel('counts')\n",
    "plt.savefig('Hot_Star.png')\n",
    "plt.show()"
   ]
  },
  {
   "cell_type": "code",
   "execution_count": null,
   "id": "ddabdb35-8c94-4261-ba44-762c9473f7cf",
   "metadata": {},
   "outputs": [],
   "source": []
  }
 ],
 "metadata": {
  "kernelspec": {
   "display_name": "Python (euv)",
   "language": "python",
   "name": "euv"
  },
  "language_info": {
   "codemirror_mode": {
    "name": "ipython",
    "version": 3
   },
   "file_extension": ".py",
   "mimetype": "text/x-python",
   "name": "python",
   "nbconvert_exporter": "python",
   "pygments_lexer": "ipython3",
   "version": "3.10.16"
  }
 },
 "nbformat": 4,
 "nbformat_minor": 5
}
